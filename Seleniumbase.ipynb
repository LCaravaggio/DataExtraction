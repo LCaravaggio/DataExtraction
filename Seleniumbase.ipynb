{
  "nbformat": 4,
  "nbformat_minor": 0,
  "metadata": {
    "colab": {
      "provenance": [],
      "authorship_tag": "ABX9TyO7uz8UrVD4maRrXbnkVIdY",
      "include_colab_link": true
    },
    "kernelspec": {
      "name": "python3",
      "display_name": "Python 3"
    },
    "language_info": {
      "name": "python"
    }
  },
  "cells": [
    {
      "cell_type": "markdown",
      "metadata": {
        "id": "view-in-github",
        "colab_type": "text"
      },
      "source": [
        "<a href=\"https://colab.research.google.com/github/LCaravaggio/DataExtraction/blob/main/Seleniumbase.ipynb\" target=\"_parent\"><img src=\"https://colab.research.google.com/assets/colab-badge.svg\" alt=\"Open In Colab\"/></a>"
      ]
    },
    {
      "cell_type": "code",
      "execution_count": 18,
      "metadata": {
        "colab": {
          "base_uri": "https://localhost:8080/"
        },
        "id": "CsZEIDiAb8y9",
        "outputId": "5fe6dc0d-9fdb-4de4-8507-d6379a589b65"
      },
      "outputs": [
        {
          "output_type": "stream",
          "name": "stdout",
          "text": [
            "Collecting seleniumbase\n",
            "  Downloading seleniumbase-4.29.9-py3-none-any.whl.metadata (85 kB)\n",
            "\u001b[?25l     \u001b[90m━━━━━━━━━━━━━━━━━━━━━━━━━━━━━━━━━━━━━━━━\u001b[0m \u001b[32m0.0/85.8 kB\u001b[0m \u001b[31m?\u001b[0m eta \u001b[36m-:--:--\u001b[0m\r\u001b[2K     \u001b[90m━━━━━━━━━━━━━━━━━━━━━━━━━━━━━━━━━━━━━━━━\u001b[0m \u001b[32m85.8/85.8 kB\u001b[0m \u001b[31m2.3 MB/s\u001b[0m eta \u001b[36m0:00:00\u001b[0m\n",
            "\u001b[?25hRequirement already satisfied: attrs>=24.2.0 in /usr/local/lib/python3.10/dist-packages (from seleniumbase) (24.2.0)\n",
            "Requirement already satisfied: certifi>=2024.7.4 in /usr/local/lib/python3.10/dist-packages (from seleniumbase) (2024.7.4)\n",
            "Requirement already satisfied: exceptiongroup>=1.2.2 in /usr/local/lib/python3.10/dist-packages (from seleniumbase) (1.2.2)\n",
            "Collecting parse>=1.20.2 (from seleniumbase)\n",
            "  Downloading parse-1.20.2-py2.py3-none-any.whl.metadata (22 kB)\n",
            "Collecting parse-type>=0.6.2 (from seleniumbase)\n",
            "  Downloading parse_type-0.6.2-py2.py3-none-any.whl.metadata (12 kB)\n",
            "Requirement already satisfied: six==1.16.0 in /usr/local/lib/python3.10/dist-packages (from seleniumbase) (1.16.0)\n",
            "Requirement already satisfied: idna==3.7 in /usr/local/lib/python3.10/dist-packages (from seleniumbase) (3.7)\n",
            "Requirement already satisfied: chardet==5.2.0 in /usr/local/lib/python3.10/dist-packages (from seleniumbase) (5.2.0)\n",
            "Requirement already satisfied: charset-normalizer==3.3.2 in /usr/local/lib/python3.10/dist-packages (from seleniumbase) (3.3.2)\n",
            "Collecting requests==2.31.0 (from seleniumbase)\n",
            "  Downloading requests-2.31.0-py3-none-any.whl.metadata (4.6 kB)\n",
            "Collecting pynose==1.5.2 (from seleniumbase)\n",
            "  Downloading pynose-1.5.2-py3-none-any.whl.metadata (19 kB)\n",
            "Requirement already satisfied: sniffio==1.3.1 in /usr/local/lib/python3.10/dist-packages (from seleniumbase) (1.3.1)\n",
            "Requirement already satisfied: h11==0.14.0 in /usr/local/lib/python3.10/dist-packages (from seleniumbase) (0.14.0)\n",
            "Requirement already satisfied: outcome==1.3.0.post0 in /usr/local/lib/python3.10/dist-packages (from seleniumbase) (1.3.0.post0)\n",
            "Requirement already satisfied: trio-websocket==0.11.1 in /usr/local/lib/python3.10/dist-packages (from seleniumbase) (0.11.1)\n",
            "Requirement already satisfied: wsproto==1.2.0 in /usr/local/lib/python3.10/dist-packages (from seleniumbase) (1.2.0)\n",
            "Collecting cssselect==1.2.0 (from seleniumbase)\n",
            "  Downloading cssselect-1.2.0-py2.py3-none-any.whl.metadata (2.2 kB)\n",
            "Requirement already satisfied: sortedcontainers==2.4.0 in /usr/local/lib/python3.10/dist-packages (from seleniumbase) (2.4.0)\n",
            "Collecting fasteners==0.19 (from seleniumbase)\n",
            "  Downloading fasteners-0.19-py3-none-any.whl.metadata (4.9 kB)\n",
            "Requirement already satisfied: iniconfig==2.0.0 in /usr/local/lib/python3.10/dist-packages (from seleniumbase) (2.0.0)\n",
            "Collecting py==1.11.0 (from seleniumbase)\n",
            "  Downloading py-1.11.0-py2.py3-none-any.whl.metadata (2.8 kB)\n",
            "Collecting pytest-html==2.0.1 (from seleniumbase)\n",
            "  Downloading pytest_html-2.0.1-py2.py3-none-any.whl.metadata (9.7 kB)\n",
            "Collecting pytest-ordering==0.6 (from seleniumbase)\n",
            "  Downloading pytest_ordering-0.6-py3-none-any.whl.metadata (1.1 kB)\n",
            "Collecting parameterized==0.9.0 (from seleniumbase)\n",
            "  Downloading parameterized-0.9.0-py2.py3-none-any.whl.metadata (18 kB)\n",
            "Collecting sbvirtualdisplay==1.3.0 (from seleniumbase)\n",
            "  Downloading sbvirtualdisplay-1.3.0-py2.py3-none-any.whl.metadata (4.1 kB)\n",
            "Collecting behave==1.2.6 (from seleniumbase)\n",
            "  Downloading behave-1.2.6-py2.py3-none-any.whl.metadata (6.4 kB)\n",
            "Requirement already satisfied: beautifulsoup4==4.12.3 in /usr/local/lib/python3.10/dist-packages (from seleniumbase) (4.12.3)\n",
            "Collecting tabcompleter==1.3.3 (from seleniumbase)\n",
            "  Downloading tabcompleter-1.3.3-py3-none-any.whl.metadata (3.7 kB)\n",
            "Collecting pdbp==1.5.4 (from seleniumbase)\n",
            "  Downloading pdbp-1.5.4-py3-none-any.whl.metadata (7.0 kB)\n",
            "Collecting colorama==0.4.6 (from seleniumbase)\n",
            "  Downloading colorama-0.4.6-py2.py3-none-any.whl.metadata (17 kB)\n",
            "Collecting pyotp==2.9.0 (from seleniumbase)\n",
            "  Downloading pyotp-2.9.0-py3-none-any.whl.metadata (9.8 kB)\n",
            "Requirement already satisfied: mdurl==0.1.2 in /usr/local/lib/python3.10/dist-packages (from seleniumbase) (0.1.2)\n",
            "Requirement already satisfied: rich==13.7.1 in /usr/local/lib/python3.10/dist-packages (from seleniumbase) (13.7.1)\n",
            "Collecting python-xlib==0.33 (from seleniumbase)\n",
            "  Downloading python_xlib-0.33-py2.py3-none-any.whl.metadata (6.2 kB)\n",
            "Requirement already satisfied: setuptools>=70.2.0 in /usr/local/lib/python3.10/dist-packages (from seleniumbase) (71.0.4)\n",
            "Requirement already satisfied: urllib3<2.3.0,>=1.26.19 in /usr/local/lib/python3.10/dist-packages (from seleniumbase) (2.0.7)\n",
            "Requirement already satisfied: pip>=24.1.2 in /usr/local/lib/python3.10/dist-packages (from seleniumbase) (24.1.2)\n",
            "Requirement already satisfied: packaging>=24.1 in /usr/local/lib/python3.10/dist-packages (from seleniumbase) (24.1)\n",
            "Requirement already satisfied: wheel>=0.44.0 in /usr/local/lib/python3.10/dist-packages (from seleniumbase) (0.44.0)\n",
            "Requirement already satisfied: filelock>=3.15.4 in /usr/local/lib/python3.10/dist-packages (from seleniumbase) (3.15.4)\n",
            "Requirement already satisfied: platformdirs>=4.2.2 in /usr/local/lib/python3.10/dist-packages (from seleniumbase) (4.2.2)\n",
            "Requirement already satisfied: typing-extensions>=4.12.2 in /usr/local/lib/python3.10/dist-packages (from seleniumbase) (4.12.2)\n",
            "Requirement already satisfied: pyyaml>=6.0.2 in /usr/local/lib/python3.10/dist-packages (from seleniumbase) (6.0.2)\n",
            "Requirement already satisfied: trio==0.26.2 in /usr/local/lib/python3.10/dist-packages (from seleniumbase) (0.26.2)\n",
            "Requirement already satisfied: websocket-client==1.8.0 in /usr/local/lib/python3.10/dist-packages (from seleniumbase) (1.8.0)\n",
            "Requirement already satisfied: selenium==4.23.1 in /usr/local/lib/python3.10/dist-packages (from seleniumbase) (4.23.1)\n",
            "Collecting execnet==2.1.1 (from seleniumbase)\n",
            "  Downloading execnet-2.1.1-py3-none-any.whl.metadata (2.9 kB)\n",
            "Requirement already satisfied: pluggy==1.5.0 in /usr/local/lib/python3.10/dist-packages (from seleniumbase) (1.5.0)\n",
            "Collecting pytest==8.3.2 (from seleniumbase)\n",
            "  Downloading pytest-8.3.2-py3-none-any.whl.metadata (7.5 kB)\n",
            "Collecting pytest-metadata==3.1.1 (from seleniumbase)\n",
            "  Downloading pytest_metadata-3.1.1-py3-none-any.whl.metadata (8.6 kB)\n",
            "Collecting pytest-rerunfailures==14.0 (from seleniumbase)\n",
            "  Downloading pytest_rerunfailures-14.0-py3-none-any.whl.metadata (18 kB)\n",
            "Collecting pytest-xdist==3.6.1 (from seleniumbase)\n",
            "  Downloading pytest_xdist-3.6.1-py3-none-any.whl.metadata (4.3 kB)\n",
            "Collecting soupsieve==2.5 (from seleniumbase)\n",
            "  Downloading soupsieve-2.5-py3-none-any.whl.metadata (4.7 kB)\n",
            "Collecting pygments==2.18.0 (from seleniumbase)\n",
            "  Downloading pygments-2.18.0-py3-none-any.whl.metadata (2.5 kB)\n",
            "Requirement already satisfied: markdown-it-py==3.0.0 in /usr/local/lib/python3.10/dist-packages (from seleniumbase) (3.0.0)\n",
            "Requirement already satisfied: tomli>=1 in /usr/local/lib/python3.10/dist-packages (from pytest==8.3.2->seleniumbase) (2.0.1)\n",
            "Requirement already satisfied: pysocks!=1.5.7,<2.0,>=1.5.6 in /usr/local/lib/python3.10/dist-packages (from urllib3[socks]<3,>=1.26->selenium==4.23.1->seleniumbase) (1.7.1)\n",
            "Downloading seleniumbase-4.29.9-py3-none-any.whl (563 kB)\n",
            "\u001b[2K   \u001b[90m━━━━━━━━━━━━━━━━━━━━━━━━━━━━━━━━━━━━━━━━\u001b[0m \u001b[32m563.1/563.1 kB\u001b[0m \u001b[31m11.6 MB/s\u001b[0m eta \u001b[36m0:00:00\u001b[0m\n",
            "\u001b[?25hDownloading behave-1.2.6-py2.py3-none-any.whl (136 kB)\n",
            "\u001b[2K   \u001b[90m━━━━━━━━━━━━━━━━━━━━━━━━━━━━━━━━━━━━━━━━\u001b[0m \u001b[32m136.8/136.8 kB\u001b[0m \u001b[31m7.6 MB/s\u001b[0m eta \u001b[36m0:00:00\u001b[0m\n",
            "\u001b[?25hDownloading colorama-0.4.6-py2.py3-none-any.whl (25 kB)\n",
            "Downloading cssselect-1.2.0-py2.py3-none-any.whl (18 kB)\n",
            "Downloading execnet-2.1.1-py3-none-any.whl (40 kB)\n",
            "\u001b[2K   \u001b[90m━━━━━━━━━━━━━━━━━━━━━━━━━━━━━━━━━━━━━━━━\u001b[0m \u001b[32m40.6/40.6 kB\u001b[0m \u001b[31m2.2 MB/s\u001b[0m eta \u001b[36m0:00:00\u001b[0m\n",
            "\u001b[?25hDownloading fasteners-0.19-py3-none-any.whl (18 kB)\n",
            "Downloading parameterized-0.9.0-py2.py3-none-any.whl (20 kB)\n",
            "Downloading pdbp-1.5.4-py3-none-any.whl (21 kB)\n",
            "Downloading py-1.11.0-py2.py3-none-any.whl (98 kB)\n",
            "\u001b[2K   \u001b[90m━━━━━━━━━━━━━━━━━━━━━━━━━━━━━━━━━━━━━━━━\u001b[0m \u001b[32m98.7/98.7 kB\u001b[0m \u001b[31m6.1 MB/s\u001b[0m eta \u001b[36m0:00:00\u001b[0m\n",
            "\u001b[?25hDownloading pygments-2.18.0-py3-none-any.whl (1.2 MB)\n",
            "\u001b[2K   \u001b[90m━━━━━━━━━━━━━━━━━━━━━━━━━━━━━━━━━━━━━━━━\u001b[0m \u001b[32m1.2/1.2 MB\u001b[0m \u001b[31m29.2 MB/s\u001b[0m eta \u001b[36m0:00:00\u001b[0m\n",
            "\u001b[?25hDownloading pynose-1.5.2-py3-none-any.whl (130 kB)\n",
            "\u001b[2K   \u001b[90m━━━━━━━━━━━━━━━━━━━━━━━━━━━━━━━━━━━━━━━━\u001b[0m \u001b[32m130.3/130.3 kB\u001b[0m \u001b[31m7.8 MB/s\u001b[0m eta \u001b[36m0:00:00\u001b[0m\n",
            "\u001b[?25hDownloading pyotp-2.9.0-py3-none-any.whl (13 kB)\n",
            "Downloading pytest-8.3.2-py3-none-any.whl (341 kB)\n",
            "\u001b[2K   \u001b[90m━━━━━━━━━━━━━━━━━━━━━━━━━━━━━━━━━━━━━━━━\u001b[0m \u001b[32m341.8/341.8 kB\u001b[0m \u001b[31m17.5 MB/s\u001b[0m eta \u001b[36m0:00:00\u001b[0m\n",
            "\u001b[?25hDownloading pytest_html-2.0.1-py2.py3-none-any.whl (15 kB)\n",
            "Downloading pytest_metadata-3.1.1-py3-none-any.whl (11 kB)\n",
            "Downloading pytest_ordering-0.6-py3-none-any.whl (4.6 kB)\n",
            "Downloading pytest_rerunfailures-14.0-py3-none-any.whl (12 kB)\n",
            "Downloading pytest_xdist-3.6.1-py3-none-any.whl (46 kB)\n",
            "\u001b[2K   \u001b[90m━━━━━━━━━━━━━━━━━━━━━━━━━━━━━━━━━━━━━━━━\u001b[0m \u001b[32m46.1/46.1 kB\u001b[0m \u001b[31m2.6 MB/s\u001b[0m eta \u001b[36m0:00:00\u001b[0m\n",
            "\u001b[?25hDownloading python_xlib-0.33-py2.py3-none-any.whl (182 kB)\n",
            "\u001b[2K   \u001b[90m━━━━━━━━━━━━━━━━━━━━━━━━━━━━━━━━━━━━━━━━\u001b[0m \u001b[32m182.2/182.2 kB\u001b[0m \u001b[31m8.4 MB/s\u001b[0m eta \u001b[36m0:00:00\u001b[0m\n",
            "\u001b[?25hDownloading requests-2.31.0-py3-none-any.whl (62 kB)\n",
            "\u001b[2K   \u001b[90m━━━━━━━━━━━━━━━━━━━━━━━━━━━━━━━━━━━━━━━━\u001b[0m \u001b[32m62.6/62.6 kB\u001b[0m \u001b[31m4.1 MB/s\u001b[0m eta \u001b[36m0:00:00\u001b[0m\n",
            "\u001b[?25hDownloading sbvirtualdisplay-1.3.0-py2.py3-none-any.whl (12 kB)\n",
            "Downloading soupsieve-2.5-py3-none-any.whl (36 kB)\n",
            "Downloading tabcompleter-1.3.3-py3-none-any.whl (6.7 kB)\n",
            "Downloading parse-1.20.2-py2.py3-none-any.whl (20 kB)\n",
            "Downloading parse_type-0.6.2-py2.py3-none-any.whl (26 kB)\n",
            "Installing collected packages: parse, tabcompleter, soupsieve, sbvirtualdisplay, requests, python-xlib, pytest, pyotp, pynose, pygments, py, parse-type, parameterized, fasteners, execnet, cssselect, colorama, pytest-xdist, pytest-rerunfailures, pytest-ordering, pytest-metadata, pdbp, behave, pytest-html, seleniumbase\n",
            "  Attempting uninstall: soupsieve\n",
            "    Found existing installation: soupsieve 2.6\n",
            "    Uninstalling soupsieve-2.6:\n",
            "      Successfully uninstalled soupsieve-2.6\n",
            "  Attempting uninstall: requests\n",
            "    Found existing installation: requests 2.32.3\n",
            "    Uninstalling requests-2.32.3:\n",
            "      Successfully uninstalled requests-2.32.3\n",
            "  Attempting uninstall: pytest\n",
            "    Found existing installation: pytest 7.4.4\n",
            "    Uninstalling pytest-7.4.4:\n",
            "      Successfully uninstalled pytest-7.4.4\n",
            "  Attempting uninstall: pygments\n",
            "    Found existing installation: Pygments 2.16.1\n",
            "    Uninstalling Pygments-2.16.1:\n",
            "      Successfully uninstalled Pygments-2.16.1\n",
            "\u001b[31mERROR: pip's dependency resolver does not currently take into account all the packages that are installed. This behaviour is the source of the following dependency conflicts.\n",
            "ipython 7.34.0 requires jedi>=0.16, which is not installed.\n",
            "google-colab 1.0.0 requires requests==2.32.3, but you have requests 2.31.0 which is incompatible.\u001b[0m\u001b[31m\n",
            "\u001b[0mSuccessfully installed behave-1.2.6 colorama-0.4.6 cssselect-1.2.0 execnet-2.1.1 fasteners-0.19 parameterized-0.9.0 parse-1.20.2 parse-type-0.6.2 pdbp-1.5.4 py-1.11.0 pygments-2.18.0 pynose-1.5.2 pyotp-2.9.0 pytest-8.3.2 pytest-html-2.0.1 pytest-metadata-3.1.1 pytest-ordering-0.6 pytest-rerunfailures-14.0 pytest-xdist-3.6.1 python-xlib-0.33 requests-2.31.0 sbvirtualdisplay-1.3.0 seleniumbase-4.29.9 soupsieve-2.5 tabcompleter-1.3.3\n"
          ]
        }
      ],
      "source": [
        "!pip install -U seleniumbase"
      ]
    },
    {
      "cell_type": "code",
      "source": [
        "from seleniumbase import Driver\n",
        "from seleniumbase import page_actions\n",
        "\n",
        "driver = Driver(uc=True)\n",
        "driver.get(\"https://www.argentina.gob.ar/descarga-constancia-cuil\")"
      ],
      "metadata": {
        "id": "boJiIbPecWci"
      },
      "execution_count": 39,
      "outputs": []
    },
    {
      "cell_type": "code",
      "source": [
        "from selenium.webdriver.common.by import By\n",
        "input_element=driver.find_element(By.XPATH, '//*[@id=\"edit-num-doc\"]')\n",
        "input_element.send_keys(\"12345678\")\n",
        "\n",
        "input_element=driver.find_element(By.XPATH, '//*[@id=\"edit-nombre\"]')\n",
        "input_element.send_keys(\"Leonardo\")\n",
        "\n",
        "input_element=driver.find_element(By.XPATH, '//*[@id=\"edit-apellido\"]')\n",
        "input_element.send_keys(\"Caravaggio\")\n",
        "\n",
        "input_element=driver.find_element(By.XPATH, '//*[@id=\"edit-sexo-m\"]')\n",
        "input_element.click()\n",
        "\n",
        "input_element=driver.find_element(By.XPATH, '//*[@id=\"edit-fecha-nacimiento-datepicker-popup-0\"]')\n",
        "input_element.send_keys(\"01/01/1980\")\n",
        "\n",
        "input_element=driver.find_element(By.XPATH, '//*[@id=\"edit-submit\"]')\n",
        "input_element.click()"
      ],
      "metadata": {
        "id": "PXp-zwGQjIOC"
      },
      "execution_count": 40,
      "outputs": []
    },
    {
      "cell_type": "code",
      "source": [
        "screenshot_name = \"Screenshot.png\"\n",
        "driver.save_screenshot(screenshot_name)\n",
        "print(\"\\nScreenshot saved to: %s\" % screenshot_name)\n",
        "driver.quit()"
      ],
      "metadata": {
        "colab": {
          "base_uri": "https://localhost:8080/"
        },
        "id": "AhA8w8ofieXw",
        "outputId": "d478f989-e1ca-4e78-f8a2-4d55dd9f8349"
      },
      "execution_count": 41,
      "outputs": [
        {
          "output_type": "stream",
          "name": "stdout",
          "text": [
            "\n",
            "Screenshot saved to: Screenshot.png\n"
          ]
        }
      ]
    }
  ]
}