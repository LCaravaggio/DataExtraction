{
  "nbformat": 4,
  "nbformat_minor": 0,
  "metadata": {
    "colab": {
      "provenance": [],
      "authorship_tag": "ABX9TyNz1hQ8YdPdQqshbKavGBgl",
      "include_colab_link": true
    },
    "kernelspec": {
      "name": "python3",
      "display_name": "Python 3"
    },
    "language_info": {
      "name": "python"
    }
  },
  "cells": [
    {
      "cell_type": "markdown",
      "metadata": {
        "id": "view-in-github",
        "colab_type": "text"
      },
      "source": [
        "<a href=\"https://colab.research.google.com/github/LCaravaggio/DataExtraction/blob/main/Seleniumbase.ipynb\" target=\"_parent\"><img src=\"https://colab.research.google.com/assets/colab-badge.svg\" alt=\"Open In Colab\"/></a>"
      ]
    },
    {
      "cell_type": "code",
      "source": [
        "%%capture\n",
        "!pip install -U seleniumbase\n",
        "!wget https://dl.google.com/linux/direct/google-chrome-stable_current_amd64.deb\n",
        "!sudo dpkg -i google-chrome-stable_current_amd64.deb\n",
        "!sudo apt-get install -f  # Para resolver dependencias"
      ],
      "metadata": {
        "id": "4YJ1fCOPrN-v"
      },
      "execution_count": 3,
      "outputs": []
    },
    {
      "cell_type": "code",
      "source": [
        "from seleniumbase import Driver\n",
        "from seleniumbase import page_actions\n",
        "\n",
        "driver = Driver(uc=True)\n",
        "driver.get(\"https://www.argentina.gob.ar/descarga-constancia-cuil\")"
      ],
      "metadata": {
        "id": "boJiIbPecWci",
        "outputId": "e20c16d5-1475-4301-8b60-7efa58cbcc0a",
        "colab": {
          "base_uri": "https://localhost:8080/"
        }
      },
      "execution_count": 4,
      "outputs": [
        {
          "output_type": "stream",
          "name": "stdout",
          "text": [
            "\n",
            "Warning: uc_driver not found. Getting it now:\n",
            "\n",
            "*** chromedriver to download = 130.0.6723.69 (Latest Stable) \n",
            "\n",
            "Downloading chromedriver-linux64.zip from:\n",
            "https://storage.googleapis.com/chrome-for-testing-public/130.0.6723.69/linux64/chromedriver-linux64.zip ...\n",
            "Download Complete!\n",
            "\n",
            "Extracting ['chromedriver'] from chromedriver-linux64.zip ...\n",
            "Unzip Complete!\n",
            "\n",
            "The file [uc_driver] was saved to:\n",
            "/usr/local/lib/python3.10/dist-packages/seleniumbase/drivers/\n",
            "uc_driver\n",
            "\n",
            "Making [uc_driver 130.0.6723.69] executable ...\n",
            "[uc_driver 130.0.6723.69] is now ready for use!\n",
            "\n",
            "\n",
            "*** chromedriver to download = 130.0.6723.69 (Latest Stable) \n",
            "\n",
            "Downloading chromedriver-linux64.zip from:\n",
            "https://storage.googleapis.com/chrome-for-testing-public/130.0.6723.69/linux64/chromedriver-linux64.zip ...\n",
            "Download Complete!\n",
            "\n",
            "Extracting ['chromedriver'] from chromedriver-linux64.zip ...\n",
            "Unzip Complete!\n",
            "\n",
            "The file [chromedriver] was saved to:\n",
            "/usr/local/lib/python3.10/dist-packages/seleniumbase/drivers/\n",
            "chromedriver\n",
            "\n",
            "Making [chromedriver 130.0.6723.69] executable ...\n",
            "[chromedriver 130.0.6723.69] is now ready for use!\n",
            "\n"
          ]
        }
      ]
    },
    {
      "cell_type": "code",
      "source": [
        "from selenium.webdriver.common.by import By\n",
        "input_element=driver.find_element(By.XPATH, '//*[@id=\"edit-num-doc\"]')\n",
        "input_element.send_keys(\"12345678\")\n",
        "\n",
        "input_element=driver.find_element(By.XPATH, '//*[@id=\"edit-nombre\"]')\n",
        "input_element.send_keys(\"Leonardo\")\n",
        "\n",
        "input_element=driver.find_element(By.XPATH, '//*[@id=\"edit-apellido\"]')\n",
        "input_element.send_keys(\"Caravaggio\")\n",
        "\n",
        "input_element=driver.find_element(By.XPATH, '//*[@id=\"edit-sexo-m\"]')\n",
        "input_element.click()\n",
        "\n",
        "input_element=driver.find_element(By.XPATH, '//*[@id=\"edit-fecha-nacimiento-datepicker-popup-0\"]')\n",
        "input_element.send_keys(\"01/01/1980\")\n",
        "\n",
        "input_element=driver.find_element(By.XPATH, '//*[@id=\"edit-submit\"]')\n",
        "input_element.click()"
      ],
      "metadata": {
        "id": "PXp-zwGQjIOC"
      },
      "execution_count": 5,
      "outputs": []
    },
    {
      "cell_type": "code",
      "source": [
        "screenshot_name = \"Screenshot.png\"\n",
        "driver.save_screenshot(screenshot_name)\n",
        "print(\"\\nScreenshot saved to: %s\" % screenshot_name)\n",
        "driver.quit()"
      ],
      "metadata": {
        "colab": {
          "base_uri": "https://localhost:8080/"
        },
        "id": "AhA8w8ofieXw",
        "outputId": "4efd82bf-16a9-4a35-c2f7-63c90205dc79"
      },
      "execution_count": 6,
      "outputs": [
        {
          "output_type": "stream",
          "name": "stdout",
          "text": [
            "\n",
            "Screenshot saved to: Screenshot.png\n"
          ]
        }
      ]
    }
  ]
}