{
  "nbformat": 4,
  "nbformat_minor": 0,
  "metadata": {
    "colab": {
      "provenance": [],
      "authorship_tag": "ABX9TyPJ25pazv0FQAavh5bTVRd+",
      "include_colab_link": true
    },
    "kernelspec": {
      "name": "python3",
      "display_name": "Python 3"
    },
    "language_info": {
      "name": "python"
    }
  },
  "cells": [
    {
      "cell_type": "markdown",
      "metadata": {
        "id": "view-in-github",
        "colab_type": "text"
      },
      "source": [
        "<a href=\"https://colab.research.google.com/github/LCaravaggio/DataExtraction/blob/main/Crawler.ipynb\" target=\"_parent\"><img src=\"https://colab.research.google.com/assets/colab-badge.svg\" alt=\"Open In Colab\"/></a>"
      ]
    },
    {
      "cell_type": "code",
      "execution_count": 1,
      "metadata": {
        "id": "_fbV165neMl9"
      },
      "outputs": [],
      "source": [
        "from bs4 import BeautifulSoup\n",
        "import requests\n",
        "\n",
        "site='https://es.wikipedia.org/'\n",
        "r = requests.get(site)"
      ]
    },
    {
      "cell_type": "code",
      "source": [
        "soup = BeautifulSoup(r.content, 'html.parser')"
      ],
      "metadata": {
        "id": "jywcJemzgzu6"
      },
      "execution_count": 2,
      "outputs": []
    },
    {
      "cell_type": "code",
      "source": [
        "div_fallecidos = soup.find('div', style=\"margin-top: .9em; margin-bottom: .9em;\")\n",
        "\n",
        "fallecidos_links = div_fallecidos.find_all('a', href=True)\n",
        "\n",
        "for link in fallecidos_links:\n",
        "    print(link['href'])"
      ],
      "metadata": {
        "colab": {
          "base_uri": "https://localhost:8080/"
        },
        "id": "oPuQIiKH2ls3",
        "outputId": "1bd749de-b578-42d8-df12-3b3a2ab9965c"
      },
      "execution_count": 3,
      "outputs": [
        {
          "output_type": "stream",
          "name": "stdout",
          "text": [
            "/wiki/Anexo:Fallecidos_en_2025\n",
            "/wiki/Gennady_Korkin\n",
            "/wiki/Archivo:Bernard_Lacombe_en_2012.jpg\n",
            "/wiki/Bernard_Lacombe\n",
            "/wiki/Alfred_Brendel\n",
            "/wiki/Manuel_Hermoso\n",
            "/wiki/Kim_Woodburn\n",
            "/wiki/Ronald_Taylor\n",
            "/wiki/Manolo_Zarzo\n",
            "/wiki/Gabriela_Medina\n",
            "/wiki/Julio_Retamal_Favereau\n",
            "/wiki/Hiroshi_Matsumoto\n",
            "/wiki/Juan_Manuel_Abal_Medina\n",
            "/wiki/Juan_Calzadilla\n",
            "/wiki/Vlad%C3%ADmir_Korotkov\n"
          ]
        }
      ]
    },
    {
      "cell_type": "code",
      "source": [
        "for link in fallecidos_links[1:]:\n",
        "    r = requests.get(site+link['href'])\n",
        "    soup = BeautifulSoup(r.content, 'html.parser')\n",
        "\n",
        "    try:\n",
        "      print(soup.find(\"span\", class_=\"mw-page-title-main\").text)\n",
        "      print(f'Nacimiento: {soup.find(\"th\", string=\"Nacimiento\").find_next_sibling().text}')\n",
        "    except:\n",
        "      print(\"S/D\")\n",
        "    print('------')"
      ],
      "metadata": {
        "colab": {
          "base_uri": "https://localhost:8080/"
        },
        "id": "phXV3iGa4Hoi",
        "outputId": "6aa74e50-bfbf-4241-d1fa-b4b64723dade"
      },
      "execution_count": 4,
      "outputs": [
        {
          "output_type": "stream",
          "name": "stdout",
          "text": [
            "Gennady Korkin\n",
            "Nacimiento: \n",
            "Yangiyer, RSS de Uzbekistán23 de agosto de 1963\n",
            "------\n",
            "S/D\n",
            "------\n",
            "Bernard Lacombe\n",
            "Nacimiento: \n",
            "Villefranche-sur-Saône, Francia15 de agosto de 1952\n",
            "------\n",
            "Alfred Brendel\n",
            "Nacimiento: \n",
            "5 de enero de 1931 Loučná nad Desnou (República Checa) \n",
            "------\n",
            "Manuel Hermoso\n",
            "Nacimiento: \n",
            "24 de julio  de 1935España España, San Cristóbal de La Laguna (Tenerife)\n",
            "------\n",
            "Kim Woodburn\n",
            "Nacimiento: \n",
            "25 de marzo de 1942Eastney, Hampshire, Inglaterra\n",
            "------\n",
            "Ronald Taylor\n",
            "Nacimiento: \n",
            "Toronto, Canadá13 de diciembre de 1937\n",
            "------\n",
            "Manolo Zarzo\n",
            "Nacimiento: \n",
            "26 de abril de 1932 Madrid, España\n",
            "------\n",
            "Gabriela Medina\n",
            "Nacimiento: \n",
            "7 de octubre de 1935 Santiago, Chile\n",
            "------\n",
            "Julio Retamal Favereau\n",
            "Nacimiento: \n",
            "14 de noviembre de 1933 (91 años) Constitución, Chile\n",
            "------\n",
            "Hiroshi Matsumoto\n",
            "Nacimiento: \n",
            "17 de noviembre de 1942 Zhangjiakou (Mengjiang) \n",
            "------\n",
            "Juan Manuel Abal Medina\n",
            "Nacimiento: \n",
            "1 de marzo de 1945Buenos Aires (Argentina)\n",
            "------\n",
            "Juan Calzadilla\n",
            "Nacimiento: \n",
            "16 de mayo de 1930 Altagracia de Orituco, Venezuela\n",
            "------\n",
            "Vladímir Korotkov\n",
            "S/D\n",
            "------\n"
          ]
        }
      ]
    }
  ]
}