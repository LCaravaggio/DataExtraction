{
  "nbformat": 4,
  "nbformat_minor": 0,
  "metadata": {
    "colab": {
      "provenance": [],
      "authorship_tag": "ABX9TyPJ25pazv0FQAavh5bTVRd+",
      "include_colab_link": true
    },
    "kernelspec": {
      "name": "python3",
      "display_name": "Python 3"
    },
    "language_info": {
      "name": "python"
    }
  },
  "cells": [
    {
      "cell_type": "markdown",
      "metadata": {
        "id": "view-in-github",
        "colab_type": "text"
      },
      "source": [
        "<a href=\"https://colab.research.google.com/github/LCaravaggio/DataExtraction/blob/main/Crawler.ipynb\" target=\"_parent\"><img src=\"https://colab.research.google.com/assets/colab-badge.svg\" alt=\"Open In Colab\"/></a>"
      ]
    },
    {
      "cell_type": "code",
      "execution_count": 1,
      "metadata": {
        "id": "_fbV165neMl9"
      },
      "outputs": [],
      "source": [
        "from bs4 import BeautifulSoup\n",
        "import requests\n",
        "\n",
        "site='https://es.wikipedia.org/'\n",
        "r = requests.get(site)"
      ]
    },
    {
      "cell_type": "code",
      "source": [
        "soup = BeautifulSoup(r.content, 'html.parser')"
      ],
      "metadata": {
        "id": "jywcJemzgzu6"
      },
      "execution_count": 2,
      "outputs": []
    },
    {
      "cell_type": "code",
      "source": [
        "div_fallecidos = soup.find('div', style=\"margin-top: .9em; margin-bottom: .9em;\")\n",
        "\n",
        "fallecidos_links = div_fallecidos.find_all('a', href=True)\n",
        "\n",
        "for link in fallecidos_links:\n",
        "    print(link['href'])"
      ],
      "metadata": {
        "colab": {
          "base_uri": "https://localhost:8080/"
        },
        "id": "oPuQIiKH2ls3",
        "outputId": "e8934081-7540-4174-b2b3-6d80b41818a4"
      },
      "execution_count": 3,
      "outputs": [
        {
          "output_type": "stream",
          "name": "stdout",
          "text": [
            "/wiki/Anexo:Fallecidos_en_2024\n",
            "/wiki/Humberto_Maschio\n",
            "/wiki/Rato_Tvrdi%C4%87\n",
            "/wiki/Atsuko_Tanaka\n",
            "/wiki/Archivo:Maria_Branyas_Morera_(117%C3%A8_aniversari).jpg\n",
            "/wiki/Maria_Branyas_Morera\n",
            "/wiki/Archivo:Klaus_Dockhorn_DDR-Schwimmer.jpg\n",
            "/wiki/Klaus_Dockhorn\n",
            "/wiki/Somaya_Ramadan\n",
            "/wiki/Lalo_Gomes\n",
            "/wiki/N%C3%A9stor_Salvador_Quintana\n",
            "/wiki/Michel_Gu%C3%A9rard_(cocinero)\n",
            "/wiki/Phil_Donahue\n",
            "/wiki/Diletta_D%27Andrea\n",
            "/wiki/Franciszek_Smuda\n",
            "/wiki/Alain_Delon\n",
            "/wiki/Johnny_%22Dandy%22_Rodr%C3%ADguez_Jr\n",
            "/wiki/Zhou_Guangzhao\n",
            "/wiki/Pierre_Cartier\n",
            "/wiki/Clara_Mar%C3%ADa_Gonz%C3%A1lez_de_Amez%C3%BAa\n"
          ]
        }
      ]
    },
    {
      "cell_type": "code",
      "source": [
        "for link in fallecidos_links[1:]:\n",
        "    r = requests.get(site+link['href'])\n",
        "    soup = BeautifulSoup(r.content, 'html.parser')\n",
        "\n",
        "    try:\n",
        "      print(soup.find(\"span\", class_=\"mw-page-title-main\").text)\n",
        "      print(f'Nacimiento: {soup.find(\"th\", string=\"Nacimiento\").find_next_sibling().text}')\n",
        "    except:\n",
        "      print(\"S/D\")\n",
        "    print('------')"
      ],
      "metadata": {
        "colab": {
          "base_uri": "https://localhost:8080/"
        },
        "id": "phXV3iGa4Hoi",
        "outputId": "a8c4f27a-f3fd-4fcf-fdc8-1fff66fc4f69"
      },
      "execution_count": 21,
      "outputs": [
        {
          "output_type": "stream",
          "name": "stdout",
          "text": [
            "Humberto Maschio\n",
            "Nacimiento: \n",
            "Avellaneda, Argentina10 de febrero de 1933\n",
            "------\n",
            "Rato Tvrdić\n",
            "Nacimiento: \n",
            "Split (RFS Yugoslavia)14 de septiembre de 1943\n",
            "------\n",
            "Atsuko Tanaka\n",
            "Nacimiento: \n",
            "14 de noviembre de 1962Maebashi, Gunma, Japón\n",
            "------\n",
            "S/D\n",
            "------\n",
            "Maria Branyas Morera\n",
            "Nacimiento: \n",
            "4 de marzo de 1907San Francisco, California (Estados Unidos)\n",
            "------\n",
            "S/D\n",
            "------\n",
            "Klaus Dockhorn\n",
            "Nacimiento: \n",
            "Heilbronn, Alemania Federal1 de junio de 1953\n",
            "------\n",
            "Somaya Ramadan\n",
            "Nacimiento: \n",
            "1951 El Cairo (Egipto) \n",
            "------\n",
            "Lalo Gomes\n",
            "Nacimiento: \n",
            "25 de enero de 1956 Punta Porá (Brasil) \n",
            "------\n",
            "Néstor Salvador Quintana\n",
            "Nacimiento: \n",
            "27 de agosto de 1933Ciudad de Salta,  Salta,  Argentina\n",
            "------\n",
            "Michel Guérard (cocinero)\n",
            "Nacimiento: \n",
            "27 de marzo de 1933 Vétheuil (Francia) \n",
            "------\n",
            "Phil Donahue\n",
            "Nacimiento: \n",
            "21 de diciembre de 1935Cleveland, Ohio,  Estados Unidos\n",
            "------\n",
            "Diletta D'Andrea\n",
            "Nacimiento: \n",
            "8 de febrero de 1942 Roma (Reino de Italia) \n",
            "------\n",
            "Franciszek Smuda\n",
            "Nacimiento: \n",
            "Lubomia, Vladislavia22 de junio de 1948\n",
            "------\n",
            "Alain Delon\n",
            "Nacimiento: \n",
            "8 de noviembre de 1935Sceaux, Altos del Sena, Francia\n",
            "------\n",
            "Johnny \"Dandy\" Rodríguez Jr\n",
            "Nacimiento: \n",
            "11 de septiembre de 1945 Nueva York (Estados Unidos) \n",
            "------\n",
            "Zhou Guangzhao\n",
            "Nacimiento: \n",
            "15 de mayo de 1929 Changsha (República de China (1912-1949)) \n",
            "------\n",
            "Pierre Cartier\n",
            "Nacimiento: \n",
            "10 de junio de 1932 Sedán (Ardenas, Francia) \n",
            "------\n",
            "Clara María González de Amezúa\n",
            "Nacimiento: \n",
            "26 de diciembre de 1929 Madrid (España) \n",
            "------\n"
          ]
        }
      ]
    }
  ]
}